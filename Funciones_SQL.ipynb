{
  "nbformat": 4,
  "nbformat_minor": 0,
  "metadata": {
    "colab": {
      "provenance": [],
      "authorship_tag": "ABX9TyNvzHqx16JqsyUDTPJEKQYV",
      "include_colab_link": true
    },
    "kernelspec": {
      "name": "python3",
      "display_name": "Python 3"
    },
    "language_info": {
      "name": "python"
    }
  },
  "cells": [
    {
      "cell_type": "markdown",
      "metadata": {
        "id": "view-in-github",
        "colab_type": "text"
      },
      "source": [
        "<a href=\"https://colab.research.google.com/github/ErnestoFCh/SQL/blob/main/Funciones_SQL.ipynb\" target=\"_parent\"><img src=\"https://colab.research.google.com/assets/colab-badge.svg\" alt=\"Open In Colab\"/></a>"
      ]
    },
    {
      "cell_type": "markdown",
      "source": [
        "#`COUNT()`\n",
        "Se utiliza para contar el número de filas que coinciden con un criterio en una consulta. Es muy útil para obtener el tamaño de un conjunto de resultados.\n",
        "\n",
        "`COUNT(*)`: Cuenta todas las filas en la tabla o el conjunto de resultados, sin importar si contienen valores nulos.\n",
        "```\n",
        "  SELECT COUNT(*) FROM empleados;\n",
        "```\n",
        "`COUNT(columna)` : Cuenta solo las filas donde la columna especificada no es NULL.\n",
        "```\n",
        "  SELECT COUNT(salario) FROM empleados;\n",
        "```\n",
        "`COUNT(DISTINCT columna)`: Cuenta el número de valores DISTINTOS en la columna, excluyendo los valores nulos.\n",
        "```\n",
        "  SELECT COUNT(DISTINCT departamento) FROM empleados;\n",
        "```\n",
        "\n",
        "\n"
      ],
      "metadata": {
        "id": "9YD_tIgoZ9PX"
      }
    },
    {
      "cell_type": "markdown",
      "source": [
        "#`AVG()`\n",
        "Se utiliza para calcular el promedio de los valores en una columna numérica. Al igual que COUNT, ignora los valores NULL en la columna sobre la que se aplica.\n",
        "\n",
        "**Promedio de una columna numérica:**\n",
        "```\n",
        "  SELECT AVG(salario) FROM empleados;\n",
        "```\n",
        "\n",
        "**Uso con** `GROUP BY`:\n",
        "Se puede combinar `AVG` con `GROUP BY` para obtener promedios por grupos específicos.\n",
        "```\n",
        "SELECT\n",
        "  departamento,\n",
        "  AVG(salario)\n",
        "FROM\n",
        "  empleados\n",
        "GROUP BY\n",
        "  departamento;\n",
        "```"
      ],
      "metadata": {
        "id": "tqYrGLooi45C"
      }
    },
    {
      "cell_type": "markdown",
      "source": [
        "#`STRFTIME()`\n",
        "Permite convertir y extraer partes específicas de una fecha o una hora en función de un formato que tú defines.\n",
        "\n",
        "**Sintaxis general:**\n",
        "```\n",
        "strftime(formato, fecha)\n",
        "\n",
        "```\n",
        "- `formato`: Especifica el formato en el que deseas que se muestre la fecha u hora. Usa patrones de formato para extraer partes específicas como el año, mes, día, etc.\n",
        "- `fecha`: Es la fecha u hora que deseas formatear o modificar.\n",
        "\n",
        "**Obtener el año de una fecha:**\n",
        "```\n",
        "SELECT strftime('%Y', '2024-10-12');\n",
        "```\n",
        "**Obtener el mes:**\n",
        "```\n",
        "SELECT strftime('%m', '2024-10-12');\n",
        "```\n",
        "Esto devuelve: 10. El formato %m extrae el mes (en formato de dos dígitos).\n",
        "\n",
        "**Obtener el día de la semana:**\n",
        "```\n",
        "SELECT strftime('%w', '2024-10-12');\n",
        "```\n",
        "Esto devuelve: 6. El formato %w devuelve un número que representa el día de la semana, siendo 0 el domingo y 6 el sábado.\n",
        "\n",
        "**Obtener la hora y minutos:**\n",
        "```\n",
        "SELECT strftime('%H:%M', '2024-10-12 14:30:00');\n",
        "```\n",
        "Algunos patrones comunes de `strftime`:\n",
        "\n",
        "- `%Y`: Año completo (ej. 2024)\n",
        "- `%m`: Mes (01-12)\n",
        "- `%d`: Día  (01-31)\n",
        "- `%H`: Hora en formato 24 horas (00-23)\n",
        "- `%M`: Minutos (00-59)\n",
        "- `%S`: Segundos (00-59)\n",
        "- `%w`: Día de la semana (0-6, 0 es domingo)\n",
        "- `%j`: Día del año (001-366)\n",
        "\n"
      ],
      "metadata": {
        "id": "qiY8NtoSka_y"
      }
    },
    {
      "cell_type": "markdown",
      "source": [
        "#`MAX()`\n",
        "Se utiliza para obtener el valor máximo de una columna en un conjunto de resultados. Es una función agregada que puede aplicarse tanto a datos numéricos como a datos de tipo fecha, e incluso a cadenas de texto, dependiendo del contexto y el tipo de datos de la columna.\n",
        "\n",
        "**Valor máximo en una columna numérica:**\n",
        "```\n",
        "SELECT MAX(salario) FROM empleados;\n",
        "```\n",
        "**Máxima fecha:**\n",
        "```\n",
        "SELECT MAX(fecha_contratacion) FROM empleados;\n",
        "```\n",
        "Esto devuelve la fecha más reciente de contratación en la columna `fecha_contratacion`.\n",
        "\n",
        "**Valor máximo en una columna de texto:**\n",
        "```\n",
        "SELECT MAX(nombre) FROM empleados;\n",
        "```\n",
        "En este caso, MAX devolverá el último nombre en orden alfabético según el ordenamiento ASCII. Las cadenas se comparan de forma lexicográfica.\n",
        "\n",
        "**Uso con `GROUP BY`**\n",
        "```\n",
        "SELECT\n",
        "  departamento,\n",
        "  MAX(salario)\n",
        "FROM\n",
        "  empleados\n",
        "GROUP BY\n",
        "  departamento;\n",
        "```\n",
        "Esto devolverá el salario más alto en cada departamento.\n",
        "\n",
        "**Valores** *NULL*: MAX ignora los valores *NULL*, por lo que solo tiene en cuenta los valores válidos.\n"
      ],
      "metadata": {
        "id": "TT3_2xbXnVz3"
      }
    },
    {
      "cell_type": "markdown",
      "source": [
        "#`MIN()`\n",
        "Es el opuesto de `MAX`.\n",
        "\n",
        "**Valor mínimo en una columna numérica:**\n",
        "```\n",
        "SELECT MIN(salario) FROM empleados;\n",
        "\n",
        "```\n",
        "**Fecha más antigua:**\n",
        "\n",
        "```\n",
        "SELECT MIN(fecha_contratacion) FROM empleados;\n",
        "```\n",
        "\n",
        "**Valor mínimo en una columna de texto:**\n",
        "\n",
        "```\n",
        "SELECT MIN(nombre) FROM empleados;\n",
        "```\n",
        "devolverá el primer nombre en orden alfabético según el ordenamiento ASCII. Las cadenas se comparan de forma lexicográfica.\n",
        "\n",
        "\n",
        "\n"
      ],
      "metadata": {
        "id": "hLKXa1u1qAPQ"
      }
    },
    {
      "cell_type": "markdown",
      "source": [
        "#`IFNULL()`\n",
        "Se utiliza para reemplazar valores NULL por un valor predeterminado que tú especificas. Es una forma de asegurarse de que las consultas no devuelvan NULL en casos donde ese valor no es deseado.\n",
        "\n",
        "**Sintaxis**:\n",
        "```\n",
        "IFNULL(expresion, valor_por_defecto)\n",
        "```\n",
        "`expresion`: Es el valor que se evaluará. Si este es `NULL`, será reemplazado por `valor_por_defecto`.\n",
        "\n",
        "**Reemplazar valores NULL en una consulta simple:**\n",
        "\n",
        "\n",
        "```\n",
        "SELECT IFNULL(salario, 0) FROM empleados;\n",
        "```\n",
        "\n",
        "**Uso en concatenación de cadenas:**\n",
        "\n",
        "```\n",
        "SELECT IFNULL(nombre, 'Sin nombre') FROM empleados;\n",
        "\n",
        "```\n",
        "Si la columna `nombre` tiene un valor `NULL`, se devolverá `'Sin nombre'`.\n",
        "\n",
        "\n"
      ],
      "metadata": {
        "id": "XuWTiZNRrr2f"
      }
    }
  ]
}